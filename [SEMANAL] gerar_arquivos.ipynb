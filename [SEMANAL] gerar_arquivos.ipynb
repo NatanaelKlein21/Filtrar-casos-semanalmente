{
 "cells": [
  {
   "cell_type": "code",
   "execution_count": 2,
   "id": "8acec88f",
   "metadata": {},
   "outputs": [],
   "source": [
    "# IMPORTANTE:\n",
    "# não se esqueça de atualizar as datas [filtros e excel]\n",
    "# sempre a ultima versão do banco analisada"
   ]
  },
  {
   "cell_type": "code",
   "execution_count": 3,
   "id": "a596593d",
   "metadata": {},
   "outputs": [],
   "source": [
    "ultima_analise = '2022-03-03'"
   ]
  },
  {
   "cell_type": "code",
   "execution_count": 4,
   "id": "4d31dbd2",
   "metadata": {},
   "outputs": [
    {
     "name": "stdout",
     "output_type": "stream",
     "text": [
      "Banco importado: (17980, 189)\n"
     ]
    }
   ],
   "source": [
    "import pandas as pd\n",
    "import datetime\n",
    "import warnings\n",
    "warnings.filterwarnings(\"ignore\")\n",
    "# puxar arquivo do banco\n",
    "df = pd.read_csv('eapv_15032022_09h32.csv', sep=';', encoding='utf-8')\n",
    "print(f'Banco importado: {df.shape}')\n",
    "banco_completo = df.shape[0]"
   ]
  },
  {
   "cell_type": "markdown",
   "id": "1c37459b",
   "metadata": {},
   "source": [
    "# Excluir as fichas canceladas"
   ]
  },
  {
   "cell_type": "code",
   "execution_count": 5,
   "id": "6079c6e1",
   "metadata": {},
   "outputs": [
    {
     "name": "stdout",
     "output_type": "stream",
     "text": [
      "Banco canceladas: (948, 1)\n"
     ]
    }
   ],
   "source": [
    "# Transformando ['Número da Notificação'] para string\n",
    "df['Número da Notificação'] = df['Número da Notificação'].astype(str)\n",
    "# puxar arquivo canceladas\n",
    "df_canceladas = pd.read_csv('eapv_canceladas_15032022.csv', sep=';', encoding='utf-8')\n",
    "# df_canceladas passa a ser apenas a coluna 'Número da Notificação' e em string\n",
    "df_canceladas = df_canceladas[['Número da Notificação']].astype(str)\n",
    "print(f'Banco canceladas: {df_canceladas.shape}')\n",
    "banco_canceladas = df_canceladas.shape[0]\n",
    "# Transformando o banco df_canceladas para uma lista notif_canceladas\n",
    "notif_canceladas = df_canceladas['Número da Notificação'].to_list()"
   ]
  },
  {
   "cell_type": "code",
   "execution_count": 6,
   "id": "753c00bf",
   "metadata": {},
   "outputs": [
    {
     "name": "stdout",
     "output_type": "stream",
     "text": [
      "Banco sem as canceladas: 17032\n",
      "Banco completo: 17980 - canceladas: 948 = 17032\n"
     ]
    }
   ],
   "source": [
    "# TIRANDO AS EXCLUÍDAS DO BANCO DE DADOS \n",
    "df = df[~df['Número da Notificação'].str.contains('(?i)' + '|'.join(notif_canceladas), na=False)]\n",
    "\n",
    "# conferir\n",
    "print(f'Banco sem as canceladas: {df.shape[0]}')\n",
    "print(f'Banco completo: {banco_completo} - canceladas: {banco_canceladas} = {banco_completo - banco_canceladas}')\n",
    "\n",
    "# Verificar se ficou alguma cancelada e excluir do banco\n",
    "df[df['Situação da Notificação'] == 'Cancelado']\n",
    "df = df[~df['Situação da Notificação'].str.contains('Cancelado', na=False)]"
   ]
  },
  {
   "cell_type": "markdown",
   "id": "7dbf86ed",
   "metadata": {},
   "source": [
    "# Tratar vacinas"
   ]
  },
  {
   "cell_type": "code",
   "execution_count": 7,
   "id": "00e46788",
   "metadata": {},
   "outputs": [],
   "source": [
    "# Criar df_dubias apenas com as dubias\n",
    "df_dubias = df.loc[~(df['Imunobiológico (vacina)'].str.contains('(?i)Butantan') |\n",
    "             df['Imunobiológico (vacina)'].str.contains('(?i)Sinovac') |\n",
    "             df['Imunobiológico (vacina)'].str.contains('(?i)Oxford') |\n",
    "             df['Imunobiológico (vacina)'].str.contains('(?i)AstraZeneca') |\n",
    "             df['Imunobiológico (vacina)'].str.contains('(?i)Covishield') |\n",
    "             df['Imunobiológico (vacina)'].str.contains('(?i)Pfizer') |\n",
    "             df['Imunobiológico (vacina)'].str.contains('(?i)Janssen'))]\n",
    "\n",
    "# Manter no df apenas vacinas corretas \n",
    "df = df.loc[(df['Imunobiológico (vacina)'].str.contains('(?i)Butantan') |\n",
    "             df['Imunobiológico (vacina)'].str.contains('(?i)Sinovac') |\n",
    "             df['Imunobiológico (vacina)'].str.contains('(?i)Oxford') |\n",
    "             df['Imunobiológico (vacina)'].str.contains('(?i)AstraZeneca') |\n",
    "             df['Imunobiológico (vacina)'].str.contains('(?i)Covishield') |\n",
    "             df['Imunobiológico (vacina)'].str.contains('(?i)Pfizer') |\n",
    "             df['Imunobiológico (vacina)'].str.contains('(?i)Janssen'))]"
   ]
  },
  {
   "cell_type": "code",
   "execution_count": 8,
   "id": "8329beb0",
   "metadata": {},
   "outputs": [
    {
     "name": "stdout",
     "output_type": "stream",
     "text": [
      "Foram excluídas do banco 994 fichas que contém outras vacinas que não as COVID-19\n",
      "Banco somente com vacinas COVID-19: (16986, 189)\n"
     ]
    }
   ],
   "source": [
    "bd_vacinas_covid = df.shape[0]\n",
    "\n",
    "print(f'Foram excluídas do banco {banco_completo - bd_vacinas_covid} fichas que contém outras vacinas que não as COVID-19')\n",
    "print(f'Banco somente com vacinas COVID-19: {df.shape}')"
   ]
  },
  {
   "cell_type": "markdown",
   "id": "e9bf5537",
   "metadata": {},
   "source": [
    "."
   ]
  },
  {
   "cell_type": "markdown",
   "id": "6f88d40d",
   "metadata": {},
   "source": [
    "."
   ]
  },
  {
   "cell_type": "markdown",
   "id": "c13009c4",
   "metadata": {},
   "source": [
    "A PARTIR DAQUI, É POSSÍVEL RODAR SOMENTE AS CÉLULAS DE INTERESSE"
   ]
  },
  {
   "cell_type": "markdown",
   "id": "db568997",
   "metadata": {},
   "source": [
    "# Abaixo de 12 anos"
   ]
  },
  {
   "cell_type": "code",
   "execution_count": 30,
   "id": "cf97ec5e",
   "metadata": {},
   "outputs": [],
   "source": [
    "# Encontrar novos casos e enviar para [helena-ramos@saude.rs.gov.br]"
   ]
  },
  {
   "cell_type": "code",
   "execution_count": 40,
   "id": "e64cd367",
   "metadata": {},
   "outputs": [],
   "source": [
    "df_12_anos = df.copy()\n",
    "df_12_anos = df_12_anos[df_12_anos['Idade Evento'] < 12]\n",
    "df_12_anos = df_12_anos.sort_values('Idade Evento').reset_index(drop=True)\n",
    "df_12_anos['Data da Notificação'] =  pd.to_datetime(df_12_anos['Data da Notificação'], infer_datetime_format=True, format='%d/%m/%Y')\n",
    "df_12_anos = df_12_anos[df_12_anos['Data da Notificação']>= ultima_analise]\n",
    "df_12_anos = df_12_anos.loc[df_12_anos['Classificação de gravidade'].str.contains(\"Grave\", na=False)]\n",
    "print(f'Há {df_12_anos.shape[0]} casos')"
   ]
  },
  {
   "cell_type": "code",
   "execution_count": 41,
   "id": "912873e7",
   "metadata": {},
   "outputs": [
    {
     "name": "stdout",
     "output_type": "stream",
     "text": [
      "Há 0 casos\n"
     ]
    }
   ],
   "source": [
    "# Gerar excel\n",
    "#df_12_anos = df_12_anos[['Número da Notificação', 'Nome Completo', 'Idade Evento']]\n",
    "#df_12_anos.to_excel('eapv_abaixo_12_anos_03032022.xlsx')"
   ]
  },
  {
   "cell_type": "markdown",
   "id": "2e72fdd5",
   "metadata": {},
   "source": [
    "# Guillain Barre"
   ]
  },
  {
   "cell_type": "code",
   "execution_count": 14,
   "id": "733568dc",
   "metadata": {},
   "outputs": [],
   "source": [
    "# Encontrar novos casos e enviar para [rosemeri-cohen@saude.rs.gov.br]"
   ]
  },
  {
   "cell_type": "code",
   "execution_count": 42,
   "id": "b417ef18",
   "metadata": {},
   "outputs": [],
   "source": [
    "df_guillain = df.copy()\n",
    "df_guillain = df_guillain.loc[df_guillain.apply(lambda row: row.astype(str).str.contains('(?i)guill').any(), axis=1)]\n",
    "df_guillain['Data da Notificação'] = pd.to_datetime(df_guillain['Data da Notificação'], infer_datetime_format=True, format='%d/%m/%Y')\n",
    "df_guillain = df_guillain[df_guillain['Data da Notificação']>= ultima_analise]\n",
    "print(f'Há {df_guillain.shape[0]} casos')"
   ]
  },
  {
   "cell_type": "code",
   "execution_count": 43,
   "id": "59200c97",
   "metadata": {},
   "outputs": [
    {
     "name": "stdout",
     "output_type": "stream",
     "text": [
      "Há 1 casos\n"
     ]
    }
   ],
   "source": [
    "# Gerar excel\n",
    "df_guillain = df_guillain[['Número da Notificação', 'Nome Completo']]\n",
    "df_guillain.to_excel('eapv_guillain_barre_15032022.xlsx')"
   ]
  },
  {
   "cell_type": "markdown",
   "id": "19394682",
   "metadata": {},
   "source": [
    "# Tromboses"
   ]
  },
  {
   "cell_type": "code",
   "execution_count": 56,
   "id": "a04f485d",
   "metadata": {},
   "outputs": [],
   "source": [
    "# Encontrar novos casos e enviar para [rosemeri-cohen@saude.rs.gov.br]"
   ]
  },
  {
   "cell_type": "code",
   "execution_count": 9,
   "id": "5d7007cb",
   "metadata": {},
   "outputs": [
    {
     "name": "stdout",
     "output_type": "stream",
     "text": [
      "Há 4 casos\n"
     ]
    }
   ],
   "source": [
    "df_tromboses = df.copy()\n",
    "tromboses = ['trombo', 'embolia']\n",
    "df_tromboses = df_tromboses.loc[df_tromboses.apply(lambda row: row.astype(str).str.contains('(?i)' + '|'.join(tromboses)).any(), axis=1)]\n",
    "df_tromboses['Data da Notificação'] = pd.to_datetime(df_tromboses['Data da Notificação'], infer_datetime_format=True, format='%d/%m/%Y')\n",
    "df_tromboses = df_tromboses[df_tromboses['Data da Notificação']>= ultima_analise]\n",
    "print(f'Há {df_tromboses.shape[0]} casos')"
   ]
  },
  {
   "cell_type": "code",
   "execution_count": 10,
   "id": "17f94f3d",
   "metadata": {},
   "outputs": [],
   "source": [
    "# Gerar excel\n",
    "df_tromboses = df_tromboses[['Número da Notificação', 'Nome Completo']]\n",
    "df_tromboses.to_excel('eapv_tromboses_15032022.xlsx')"
   ]
  },
  {
   "cell_type": "markdown",
   "id": "836ef2af",
   "metadata": {},
   "source": [
    "# Gestantes"
   ]
  },
  {
   "cell_type": "code",
   "execution_count": 75,
   "id": "bfcd24c0",
   "metadata": {},
   "outputs": [],
   "source": [
    "# Encontrar novos casos e enviar para [helena-ramos@saude.rs.gov.br]"
   ]
  },
  {
   "cell_type": "code",
   "execution_count": 46,
   "id": "477ef399",
   "metadata": {},
   "outputs": [
    {
     "name": "stdout",
     "output_type": "stream",
     "text": [
      "Há 0 casos\n"
     ]
    }
   ],
   "source": [
    "df_gestantes = df.copy()\n",
    "df_gestantes = df_gestantes.loc[df_gestantes['Gestante no momento da vacinação?'].str.contains(\"(?i)Sim\", na=False)]\n",
    "df_gestantes = df_gestantes.loc[df_gestantes['Classificação de gravidade'].str.contains(\"Grave\", na=False)]\n",
    "df_gestantes['Data da Notificação'] = pd.to_datetime(df_gestantes['Data da Notificação'], infer_datetime_format=True, format='%d/%m/%Y')\n",
    "df_gestantes = df_gestantes[df_gestantes['Data da Notificação']>= ultima_analise]\n",
    "print(f'Há {df_gestantes.shape[0]} casos')"
   ]
  },
  {
   "cell_type": "code",
   "execution_count": 11,
   "id": "e50a644d",
   "metadata": {},
   "outputs": [],
   "source": [
    "# Gerar excel\n",
    "#df_gestantes = df_gestantes[['Número da Notificação', 'Nome Completo']]\n",
    "#df_gestantes.to_excel('eapv_gestantes_graves_03032022.xlsx')"
   ]
  },
  {
   "cell_type": "markdown",
   "id": "81a254ac",
   "metadata": {},
   "source": [
    "."
   ]
  },
  {
   "cell_type": "markdown",
   "id": "57aa8852",
   "metadata": {},
   "source": [
    "."
   ]
  },
  {
   "cell_type": "markdown",
   "id": "fedd66b7",
   "metadata": {},
   "source": [
    "."
   ]
  },
  {
   "cell_type": "markdown",
   "id": "b43c2d59",
   "metadata": {},
   "source": [
    "## TRATAMENTO DO BANCO"
   ]
  },
  {
   "cell_type": "markdown",
   "id": "2706e31f",
   "metadata": {},
   "source": [
    "Encerrados graves por municípios"
   ]
  },
  {
   "cell_type": "code",
   "execution_count": null,
   "id": "2a40cc5c",
   "metadata": {},
   "outputs": [],
   "source": [
    "# bug no e-sus, mostra encerrados pelo estado na coluna dos municípios... verificar manualmente\n",
    "# se encontrar algum caso, enviar email aos notificadores"
   ]
  },
  {
   "cell_type": "code",
   "execution_count": 1,
   "id": "b0290b9b",
   "metadata": {},
   "outputs": [],
   "source": [
    "data = '2022-02-08'"
   ]
  },
  {
   "cell_type": "code",
   "execution_count": 12,
   "id": "bcffffb3",
   "metadata": {},
   "outputs": [
    {
     "name": "stdout",
     "output_type": "stream",
     "text": [
      "Há 0 casos\n"
     ]
    }
   ],
   "source": [
    "df_municipio = df.copy()\n",
    "df_municipio = df_municipio.loc[df_municipio['Classificação de gravidade'].str.contains(\"Grave\", na=False)]\n",
    "df_municipio.dropna(subset=['Encerramento Municipal - Evento adverso'], inplace=True)\n",
    "df_municipio['Data da Notificação'] = pd.to_datetime(df_municipio['Data da Notificação'], infer_datetime_format=True, format='%d/%m/%Y')\n",
    "df_municipio = df_municipio[df_municipio['Data da Notificação']>= data]\n",
    "print(f'Há {df_municipio.shape[0]} casos')"
   ]
  },
  {
   "cell_type": "markdown",
   "id": "e05513e7",
   "metadata": {},
   "source": [
    "Vacina Dúbias"
   ]
  },
  {
   "cell_type": "code",
   "execution_count": 13,
   "id": "ad33bf44",
   "metadata": {},
   "outputs": [],
   "source": [
    "# usar df_dubias para pesquisar vacinas dubias\n",
    "# fazer isso manualemte, por enquanto\n",
    "# caso encontre, enviar e-mail aos notificadores"
   ]
  },
  {
   "cell_type": "code",
   "execution_count": 83,
   "id": "8041400a",
   "metadata": {},
   "outputs": [
    {
     "name": "stdout",
     "output_type": "stream",
     "text": [
      "Há 0 casos\n"
     ]
    }
   ],
   "source": [
    "# Gerar excel\n",
    "df_municipio.to_excel('encerrados_por_municipio.xlsx')"
   ]
  },
  {
   "cell_type": "code",
   "execution_count": null,
   "id": "fba33ebe",
   "metadata": {},
   "outputs": [],
   "source": [
    "# gerar excel\n",
    "#df_dubias.to_excel('vacinas_dubias.xlsx')"
   ]
  },
  {
   "cell_type": "markdown",
   "id": "16c2327d",
   "metadata": {},
   "source": [
    "Idade inconscistente"
   ]
  },
  {
   "cell_type": "code",
   "execution_count": 14,
   "id": "091dc644",
   "metadata": {},
   "outputs": [],
   "source": [
    "# fazer idade inconsc aqui"
   ]
  },
  {
   "cell_type": "code",
   "execution_count": null,
   "id": "2be9d754",
   "metadata": {},
   "outputs": [],
   "source": [
    "# PARA FAZER\n",
    "# Filtrar apenas colunas de interesse. Identificar quais...\n",
    "# Verificar casos de SARC em Imunobiológico(vacina) e gerar xlsx"
   ]
  }
 ],
 "metadata": {
  "kernelspec": {
   "display_name": "Python 3",
   "language": "python",
   "name": "python3"
  },
  "language_info": {
   "codemirror_mode": {
    "name": "ipython",
    "version": 3
   },
   "file_extension": ".py",
   "mimetype": "text/x-python",
   "name": "python",
   "nbconvert_exporter": "python",
   "pygments_lexer": "ipython3",
   "version": "3.8.8"
  }
 },
 "nbformat": 4,
 "nbformat_minor": 5
}
